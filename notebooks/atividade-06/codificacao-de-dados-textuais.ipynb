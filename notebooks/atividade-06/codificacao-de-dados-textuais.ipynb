{
 "cells": [
  {
   "cell_type": "markdown",
   "metadata": {},
   "source": [
    "# Codificação de dados textuais"
   ]
  },
  {
   "cell_type": "markdown",
   "metadata": {},
   "source": [
    "## 1. Explicação\n",
    "\n",
    "A codificação de dados é importante em qualquer contexto dentro da ciência de dados, especialmente porque ao codificar os dados, o cientista facilita a sua manipulação e análise. Assim como facilita para os modelos de aprendizado de máquina. Neste contexto, a codificação de textos é importante pois ela é geralmente mais complexa do que a codificação de dados numéricos. \n",
    "\n",
    "Para resolver a codificação de textos, existem diversas técnicas, dentre elas, a codificação *tf-idf* e a codificação *bag-of-words*. Entre as principais diferenças a principal é que a codificação *tf-idf* é mais complexa pois leva em consideração a importância de cada palavra no texto, enquanto a codificação *bag-of-words* apenas codifica baseado na frequência de cada palavra no texto."
   ]
  },
  {
   "cell_type": "markdown",
   "metadata": {},
   "source": [
    "## 2. Prática"
   ]
  },
  {
   "cell_type": "code",
   "execution_count": null,
   "metadata": {},
   "outputs": [],
   "source": [
    "frases = [\n",
    "    \"John likes\",\n",
    "    \"likes to\",\n",
    "    \"to watch\",\n",
    "    \"watch movies\",\n",
    "    \"Mary likes\",\n",
    "    \"likes movies\",\n",
    "    \"movies too\",\n",
    "]\n",
    "\n",
    "#Show how to use bag-of-words\n",
    "from sklearn.feature_extraction.text import CountVectorizer\n",
    "vectorizer = CountVectorizer()\n",
    "X = vectorizer.fit_transform(frases)\n",
    "print(vectorizer.get_feature_names())\n",
    "print(X.toarray())\n",
    "\n",
    "print(\"===============================================================\")\n",
    "\n",
    "#Show how to use tf-idf\n",
    "from sklearn.feature_extraction.text import TfidfVectorizer\n",
    "vectorizer = TfidfVectorizer()\n",
    "X = vectorizer.fit_transform(frases)\n",
    "print(vectorizer.get_feature_names())\n",
    "print(X.toarray())"
   ]
  },
  {
   "cell_type": "markdown",
   "metadata": {},
   "source": [
    "Podemos ver que, na codificação **tf-idf** cada variavel diferente de 0 recebe um valor em ponto flutuante diferente que indica a sua importância no texto, na codificação **bag-of-words** isso não acontece."
   ]
  }
 ],
 "metadata": {
  "kernelspec": {
   "display_name": "Python 3.8.10 64-bit ('3.8.10')",
   "language": "python",
   "name": "python3"
  },
  "language_info": {
   "name": "python",
   "version": "3.8.10"
  },
  "orig_nbformat": 4,
  "vscode": {
   "interpreter": {
    "hash": "2bc0350dd0024c7579bf822bd52c76e470ff616ff589af20bdd0460a46a7aac1"
   }
  }
 },
 "nbformat": 4,
 "nbformat_minor": 2
}
